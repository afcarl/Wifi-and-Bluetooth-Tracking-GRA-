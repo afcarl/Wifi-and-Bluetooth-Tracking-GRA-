{
 "cells": [
  {
   "cell_type": "code",
   "execution_count": 2,
   "metadata": {
    "collapsed": false
   },
   "outputs": [
    {
     "name": "stdout",
     "output_type": "stream",
     "text": [
      "Populating the interactive namespace from numpy and matplotlib\n"
     ]
    },
    {
     "name": "stderr",
     "output_type": "stream",
     "text": [
      "C:\\Users\\PRIYA  SINGH\\Anaconda\\lib\\site-packages\\matplotlib\\__init__.py:855: UserWarning: svg.embed_char_paths is deprecated and replaced with svg.fonttype; please use the latter.\n",
      "  warnings.warn(self.msg_depr % (key, alt_key))\n"
     ]
    }
   ],
   "source": [
    "import numpy as np\n",
    "import json\n",
    "import pandas as pd\n",
    "import scipy.stats as sm \n",
    "import pylab as pl\n",
    "import matplotlib.pyplot as pl\n",
    "c=json.load(open('pui.json'))\n",
    "pl.rcParams.update(c)\n",
    "%pylab inline"
   ]
  },
  {
   "cell_type": "code",
   "execution_count": 3,
   "metadata": {
    "collapsed": false
   },
   "outputs": [],
   "source": [
    "df=pd.read_csv('out2.csv')\n"
   ]
  },
  {
   "cell_type": "code",
   "execution_count": 4,
   "metadata": {
    "collapsed": true
   },
   "outputs": [],
   "source": [
    "df['date']=pd.to_datetime(df['dtg'])"
   ]
  },
  {
   "cell_type": "code",
   "execution_count": 5,
   "metadata": {
    "collapsed": false
   },
   "outputs": [
    {
     "data": {
      "text/plain": [
       "0        False\n",
       "1        False\n",
       "2        False\n",
       "3        False\n",
       "4        False\n",
       "5        False\n",
       "6        False\n",
       "7        False\n",
       "8        False\n",
       "9        False\n",
       "10       False\n",
       "11       False\n",
       "12       False\n",
       "13       False\n",
       "14       False\n",
       "15       False\n",
       "16       False\n",
       "17       False\n",
       "18       False\n",
       "19       False\n",
       "20       False\n",
       "21       False\n",
       "22       False\n",
       "23       False\n",
       "24       False\n",
       "25       False\n",
       "26       False\n",
       "27       False\n",
       "28       False\n",
       "29       False\n",
       "         ...  \n",
       "15940    False\n",
       "15941    False\n",
       "15942    False\n",
       "15943    False\n",
       "15944    False\n",
       "15945    False\n",
       "15946    False\n",
       "15947    False\n",
       "15948    False\n",
       "15949    False\n",
       "15950    False\n",
       "15951    False\n",
       "15952    False\n",
       "15953    False\n",
       "15954    False\n",
       "15955    False\n",
       "15956    False\n",
       "15957    False\n",
       "15958    False\n",
       "15959    False\n",
       "15960    False\n",
       "15961    False\n",
       "15962    False\n",
       "15963    False\n",
       "15964    False\n",
       "15965    False\n",
       "15966    False\n",
       "15967    False\n",
       "15968    False\n",
       "15969    False\n",
       "Name: hour, dtype: bool"
      ]
     },
     "execution_count": 5,
     "metadata": {},
     "output_type": "execute_result"
    }
   ],
   "source": [
    "df['hour']=df['date'].dt.hour\n",
    "df['hour']==1"
   ]
  },
  {
   "cell_type": "code",
   "execution_count": 16,
   "metadata": {
    "collapsed": true
   },
   "outputs": [],
   "source": [
    "import string\n",
    "r=[]\n",
    "\n",
    "df['date']= pd.to_datetime(df['dtg'])\n",
    "df['hour']= df['date'].dt.hour\n",
    "for i in range(len(df)):\n",
    "    \n",
    "    if str(df['date'][i])[0:10]=='2015-10-02': \n",
    "        r.append(i)\n",
    "        \n",
    "        \n",
    "\n",
    "      "
   ]
  },
  {
   "cell_type": "code",
   "execution_count": 17,
   "metadata": {
    "collapsed": false
   },
   "outputs": [
    {
     "name": "stdout",
     "output_type": "stream",
     "text": [
      "9257\n"
     ]
    }
   ],
   "source": [
    "print max(r)\n"
   ]
  },
  {
   "cell_type": "code",
   "execution_count": 26,
   "metadata": {
    "collapsed": false
   },
   "outputs": [
    {
     "name": "stdout",
     "output_type": "stream",
     "text": [
      "<type 'list'>\n"
     ]
    }
   ],
   "source": [
    "m=df['hour'][min(r):max(r)]\n",
    "k=list (m)\n",
    "print type(k)"
   ]
  },
  {
   "cell_type": "code",
   "execution_count": 27,
   "metadata": {
    "collapsed": false
   },
   "outputs": [
    {
     "name": "stdout",
     "output_type": "stream",
     "text": [
      "[142, 101, 62, 19, 14, 11, 12, 17, 37, 23, 77, 203, 312, 501, 487, 490, 660, 324, 741, 341, 418, 416, 400, 462]\n",
      "24\n"
     ]
    }
   ],
   "source": [
    "row=[]\n",
    "\n",
    "for i in range(0,24):\n",
    "    \n",
    "    row.append(k.count(i))\n",
    "        \n",
    "\n",
    "    \n",
    "print row\n",
    "print len(row)\n",
    "        \n",
    "       \n",
    "        \n",
    "\n",
    "    \n"
   ]
  },
  {
   "cell_type": "code",
   "execution_count": 24,
   "metadata": {
    "collapsed": false
   },
   "outputs": [
    {
     "data": {
      "text/plain": [
       "2987    False\n",
       "Name: hour, dtype: bool"
      ]
     },
     "execution_count": 24,
     "metadata": {},
     "output_type": "execute_result"
    }
   ],
   "source": [
    "m.iloc[[i]]['hour']==1"
   ]
  },
  {
   "cell_type": "code",
   "execution_count": 28,
   "metadata": {
    "collapsed": false
   },
   "outputs": [
    {
     "name": "stdout",
     "output_type": "stream",
     "text": [
      "[0, 1, 2, 3, 4, 5, 6, 7, 8, 9, 10, 11, 12, 13, 14, 15, 16, 17, 18, 19, 20, 21, 22, 23]\n"
     ]
    }
   ],
   "source": [
    "l=range(0,24)\n",
    "print l"
   ]
  },
  {
   "cell_type": "code",
   "execution_count": 29,
   "metadata": {
    "collapsed": false
   },
   "outputs": [
    {
     "data": {
      "image/png": "[encoded data removed]",
      "text/plain": [
       "<matplotlib.figure.Figure at 0xd7509b0>"
      ]
     },
     "metadata": {},
     "output_type": "display_data"
    }
   ],
   "source": [
    "fig, ax = plt.subplots(1, 1)\n",
    "ax.hist(k,l,color='g',alpha=0.7,label='Counts with Highest Value as =%i'%max(row))\n",
    "ax.set_xlabel('In 24 hours')\n",
    "ax.set_ylabel('Count')\n",
    "xticks(range(0,24)) \n",
    "yticks(range(0,max(row),5))\n",
    "\n",
    "ax.set_ylim\n",
    "pl.grid(True)\n",
    "ax.legend()\n",
    "pl.show()"
   ]
  },
  {
   "cell_type": "code",
   "execution_count": 25,
   "metadata": {
    "collapsed": false
   },
   "outputs": [
    {
     "data": {
      "text/plain": [
       "2989    0\n",
       "Name: hour, dtype: int64"
      ]
     },
     "execution_count": 25,
     "metadata": {},
     "output_type": "execute_result"
    }
   ],
   "source": [
    "m.iloc[[2]]['hour']\n"
   ]
  },
  {
   "cell_type": "markdown",
   "metadata": {},
   "source": [
    "### "
   ]
  }
 ],
 "metadata": {
  "kernelspec": {
   "display_name": "Python 2",
   "language": "python",
   "name": "python2"
  },
  "language_info": {
   "codemirror_mode": {
    "name": "ipython",
    "version": 2
   },
   "file_extension": ".py",
   "mimetype": "text/x-python",
   "name": "python",
   "nbconvert_exporter": "python",
   "pygments_lexer": "ipython2",
   "version": "2.7.10"
  }
 },
 "nbformat": 4,
 "nbformat_minor": 0
}
