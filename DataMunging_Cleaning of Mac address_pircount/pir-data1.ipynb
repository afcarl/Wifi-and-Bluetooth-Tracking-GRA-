{
 "cells": [
  {
   "cell_type": "code",
   "execution_count": 3,
   "metadata": {
    "collapsed": false
   },
   "outputs": [
    {
     "name": "stdout",
     "output_type": "stream",
     "text": [
      "Populating the interactive namespace from numpy and matplotlib\n"
     ]
    },
    {
     "name": "stderr",
     "output_type": "stream",
     "text": [
      "C:\\Users\\PRIYA  SINGH\\Anaconda\\lib\\site-packages\\matplotlib\\__init__.py:855: UserWarning: svg.embed_char_paths is deprecated and replaced with svg.fonttype; please use the latter.\n",
      "  warnings.warn(self.msg_depr % (key, alt_key))\n"
     ]
    }
   ],
   "source": [
    "import numpy as np\n",
    "import json\n",
    "import pandas as pd\n",
    "import scipy.stats as sm \n",
    "import pylab as pl\n",
    "import matplotlib.pyplot as pl\n",
    "c=json.load(open('pui.json'))\n",
    "pl.rcParams.update(c)\n",
    "%pylab inline"
   ]
  },
  {
   "cell_type": "code",
   "execution_count": 4,
   "metadata": {
    "collapsed": true
   },
   "outputs": [],
   "source": [
    "df=pd.read_csv('pir1.csv')"
   ]
  },
  {
   "cell_type": "code",
   "execution_count": 5,
   "metadata": {
    "collapsed": false
   },
   "outputs": [
    {
     "data": {
      "text/plain": [
       "3392"
      ]
     },
     "execution_count": 5,
     "metadata": {},
     "output_type": "execute_result"
    }
   ],
   "source": [
    "len(df)"
   ]
  },
  {
   "cell_type": "code",
   "execution_count": 6,
   "metadata": {
    "collapsed": false
   },
   "outputs": [
    {
     "data": {
      "text/plain": [
       "['dtg', 'count']"
      ]
     },
     "execution_count": 6,
     "metadata": {},
     "output_type": "execute_result"
    }
   ],
   "source": [
    "list(df.columns.values)"
   ]
  },
  {
   "cell_type": "code",
   "execution_count": 7,
   "metadata": {
    "collapsed": false
   },
   "outputs": [
    {
     "name": "stdout",
     "output_type": "stream",
     "text": [
      "161\n",
      "329\n"
     ]
    }
   ],
   "source": [
    "import string\n",
    "r=[]\n",
    "\n",
    "df['date']= pd.to_datetime(df['dtg'])\n",
    "df['hour']= df['date'].dt.hour\n",
    "for i in range(len(df)):\n",
    "    \n",
    "    if str(df['date'][i])[0:10]=='2015-09-17': \n",
    "        r.append(i)\n",
    "        \n",
    "        \n",
    "print min(r)\n",
    "print max(r)\n",
    "      \n",
    "        \n",
    "    \n",
    "    \n",
    "    \n",
    "    \n",
    "    \n",
    "\n"
   ]
  },
  {
   "cell_type": "code",
   "execution_count": 8,
   "metadata": {
    "collapsed": false
   },
   "outputs": [
    {
     "name": "stdout",
     "output_type": "stream",
     "text": [
      "161     0\n",
      "162     9\n",
      "163     9\n",
      "164     9\n",
      "165     9\n",
      "166    10\n",
      "167    10\n",
      "168    10\n",
      "169    10\n",
      "170    10\n",
      "171    10\n",
      "172    10\n",
      "173    10\n",
      "174    10\n",
      "175    10\n",
      "176    10\n",
      "177    10\n",
      "178    11\n",
      "179    11\n",
      "180    11\n",
      "181    11\n",
      "182    11\n",
      "183    11\n",
      "184    11\n",
      "185    11\n",
      "186    11\n",
      "187    11\n",
      "188    11\n",
      "189    11\n",
      "190    11\n",
      "       ..\n",
      "299    17\n",
      "300    17\n",
      "301    17\n",
      "302    17\n",
      "303    17\n",
      "304    17\n",
      "305    17\n",
      "306    18\n",
      "307    18\n",
      "308    18\n",
      "309    18\n",
      "310    18\n",
      "311    18\n",
      "312    18\n",
      "313    18\n",
      "314    18\n",
      "315    18\n",
      "316    19\n",
      "317    19\n",
      "318    19\n",
      "319    19\n",
      "320    19\n",
      "321    19\n",
      "322    20\n",
      "323    20\n",
      "324    20\n",
      "325    21\n",
      "326    21\n",
      "327    21\n",
      "328    21\n",
      "Name: hour, dtype: int64\n"
     ]
    }
   ],
   "source": [
    "# print str(df['date'][1])[0:10]\n",
    "\n",
    "m=df['hour'][min(r):max(r)]\n",
    "k=list (m)\n",
    "print m"
   ]
  },
  {
   "cell_type": "code",
   "execution_count": 17,
   "metadata": {
    "collapsed": false
   },
   "outputs": [
    {
     "name": "stdout",
     "output_type": "stream",
     "text": [
      "[1, 0, 0, 0, 0, 0, 0, 0, 0, 4, 12, 15, 22, 9, 18, 21, 21, 22, 10, 6, 3, 4, 0, 0]\n",
      "24\n",
      "22\n",
      "[0, 0, 0, 4, 12, 15, 22, 9, 18, 21, 21, 22, 10, 6, 3, 4, 0, 0]\n"
     ]
    }
   ],
   "source": [
    "row=[]\n",
    "\n",
    "for i in range(0,24):\n",
    "    \n",
    "    row.append(k.count(i))\n",
    "        \n",
    "\n",
    "    \n",
    "print row\n",
    "print len(row)\n",
    "print max(row)\n",
    "row = row[6:]\n",
    "print row"
   ]
  },
  {
   "cell_type": "code",
   "execution_count": 18,
   "metadata": {
    "collapsed": false
   },
   "outputs": [
    {
     "name": "stdout",
     "output_type": "stream",
     "text": [
      "[6, 7, 8, 9, 10, 11, 12, 13, 14, 15, 16, 17, 18, 19, 20, 21, 22, 23]\n"
     ]
    }
   ],
   "source": [
    "l=range(6,24)\n",
    "print l"
   ]
  },
  {
   "cell_type": "code",
   "execution_count": 20,
   "metadata": {
    "collapsed": false
   },
   "outputs": [
    {
     "data": {
      "image/png": "[encoded data removed]",
      "text/plain": [
       "<matplotlib.figure.Figure at 0xe381930>"
      ]
     },
     "metadata": {},
     "output_type": "display_data"
    }
   ],
   "source": [
    "\n",
    "fig, ax = plt.subplots(1, 1)\n",
    "ax.hist(k,l,color='g',alpha=0.7,label='Counts with Highest Value as =%i'%max(row))\n",
    "ax.set_xlabel('In 24 hours')\n",
    "ax.set_ylabel('Count')\n",
    "xticks(range(6,24)) \n",
    "yticks(range(0,max(row),5))\n",
    "\n",
    "ax.set_ylim\n",
    "pl.grid(True)\n",
    "ax.legend()\n",
    "pl.show()"
   ]
  },
  {
   "cell_type": "code",
   "execution_count": null,
   "metadata": {
    "collapsed": false
   },
   "outputs": [],
   "source": []
  },
  {
   "cell_type": "code",
   "execution_count": null,
   "metadata": {
    "collapsed": true
   },
   "outputs": [],
   "source": []
  }
 ],
 "metadata": {
  "kernelspec": {
   "display_name": "Python 2",
   "language": "python",
   "name": "python2"
  },
  "language_info": {
   "codemirror_mode": {
    "name": "ipython",
    "version": 2
   },
   "file_extension": ".py",
   "mimetype": "text/x-python",
   "name": "python",
   "nbconvert_exporter": "python",
   "pygments_lexer": "ipython2",
   "version": "2.7.10"
  }
 },
 "nbformat": 4,
 "nbformat_minor": 0
}
